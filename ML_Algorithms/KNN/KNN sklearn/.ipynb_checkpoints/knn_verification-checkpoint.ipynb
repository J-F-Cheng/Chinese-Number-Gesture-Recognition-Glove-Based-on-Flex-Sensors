{
 "cells": [
  {
   "cell_type": "code",
   "execution_count": 1,
   "metadata": {
    "colab": {
     "base_uri": "https://localhost:8080/",
     "height": 907
    },
    "id": "U0Bp_iBkOghR",
    "outputId": "17a8279c-3d24-46cf-e298-0faf26c73565"
   },
   "outputs": [
    {
     "name": "stdout",
     "output_type": "stream",
     "text": [
      "[[1039    0    0    0    0    0    0    0    0   23]\n",
      " [   0  931    0    0    0    0    0    4    0    0]\n",
      " [   0    0  979    0    0    0    0    0    0    0]\n",
      " [   0    0    0  939    0    0    0    0    0    0]\n",
      " [   0    0    0    0  955    6    0    0    0    0]\n",
      " [   0    0    0    0    0  969    0    0    0    0]\n",
      " [   0    0    0    0    0    0  953    0    0    0]\n",
      " [  10    0    0    0    0    0    0  931    0    0]\n",
      " [   0    0    0    0    0    0    0    0  985    0]\n",
      " [   2    0    0    0    0    0    0    0    0 1151]]\n",
      "              precision    recall  f1-score   support\n",
      "\n",
      "           0       0.99      0.98      0.98      1062\n",
      "           1       1.00      1.00      1.00       935\n",
      "           2       1.00      1.00      1.00       979\n",
      "           3       1.00      1.00      1.00       939\n",
      "           4       1.00      0.99      1.00       961\n",
      "           5       0.99      1.00      1.00       969\n",
      "           6       1.00      1.00      1.00       953\n",
      "           7       1.00      0.99      0.99       941\n",
      "           8       1.00      1.00      1.00       985\n",
      "           9       0.98      1.00      0.99      1153\n",
      "\n",
      "    accuracy                           1.00      9877\n",
      "   macro avg       1.00      1.00      1.00      9877\n",
      "weighted avg       1.00      1.00      1.00      9877\n",
      "\n"
     ]
    },
    {
     "data": {
      "image/png": "[encoded data removed]",
      "text/plain": [
       "<Figure size 864x432 with 1 Axes>"
      ]
     },
     "metadata": {
      "needs_background": "light"
     },
     "output_type": "display_data"
    },
    {
     "name": "stdout",
     "output_type": "stream",
     "text": [
      "[0.0034423407917383822, 0.003341095474334312, 0.003543586109142452, 0.003341095474334312, 0.0038473220613546625, 0.003746076743950592, 0.0041510580135668725, 0.0041510580135668725, 0.0046572846005872226, 0.004556039283183153, 0.004859775235395363, 0.005062265870203503, 0.0051635111876075735, 0.0051635111876075735, 0.005264756505011643, 0.005264756505011643, 0.005062265870203503, 0.005264756505011643, 0.005366001822415713, 0.007289662853093045, 0.007492153487901184, 0.007492153487901184, 0.007593398805305254, 0.007593398805305254, 0.007593398805305254, 0.007593398805305254, 0.007998380074921535, 0.007998380074921535, 0.007998380074921535, 0.007897134757517466, 0.008099625392325605, 0.007998380074921535, 0.008302116027133745, 0.007998380074921535, 0.008302116027133745, 0.008302116027133745, 0.008504606661941885, 0.008504606661941885, 0.008909587931558166]\n"
     ]
    }
   ],
   "source": [
    "import numpy as np\n",
    "import matplotlib.pyplot as plt\n",
    "import pandas as pd\n",
    "from sklearn.model_selection import train_test_split\n",
    "from sklearn.neighbors import KNeighborsClassifier\n",
    "from sklearn.metrics import classification_report, confusion_matrix\n",
    "\n",
    "#url = \"https://archive.ics.uci.edu/ml/machine-learning-databases/iris/iris.data\"   # Assign colum names to the dataset\n",
    "#names = ['sepal-length', 'sepal-width', 'petal-length', 'petal-width', 'Class']    # Read dataset to pandas dataframe\n",
    "#dataset = pd.read_csv(url, names=names)\n",
    "\n",
    "names = ['thumb', 'index', 'middle', 'ring', 'little', 'class']\n",
    "dataset = pd.read_csv('fingerdata_forknn1.csv', names=names)\n",
    "dataset_test = pd.read_csv('fingerdata.csv', names=names)\n",
    "dataset_test = dataset_test.sample(frac=0.8)\n",
    "\n",
    "X_train = dataset.iloc[:, :-1].values\n",
    "y_train = dataset.iloc[:, 5].values\n",
    "\n",
    "X_test = dataset_test.iloc[:, :-1].values\n",
    "y_test = dataset_test.iloc[:, 5].values\n",
    "#X_train, X_test, y_train, y_test = train_test_split(X, y, test_size=0.20)    #20% for test\n",
    "\n",
    "\n",
    "\n",
    "classifier = KNeighborsClassifier(n_neighbors=10)   #hyperparameter of KNN --- k\n",
    "classifier.fit(X_train, y_train)       #training\n",
    "y_pred = classifier.predict(X_test)   #prediction\n",
    "\n",
    "\n",
    "#evaluation of the algorithm\n",
    "print(confusion_matrix(y_test, y_pred))\n",
    "print(classification_report(y_test, y_pred))\n",
    "\n",
    "\n",
    "error = []\n",
    "# Calculating error for K values between 1 and 40\n",
    "for i in range(1, 40):\n",
    "    knn = KNeighborsClassifier(n_neighbors=i)\n",
    "    knn.fit(X_train, y_train)\n",
    "    pred_i = knn.predict(X_test)\n",
    "    error.append(np.mean(pred_i != y_test))\n",
    "\n",
    "fig = plt.figure(figsize=(12, 6))\n",
    "plt.plot(range(1, 40), error, color='red', linestyle='dashed', marker='o',\n",
    "         markerfacecolor='blue', markersize=10)\n",
    "plt.title('Error Rate K Value')\n",
    "plt.xlabel('K Value')\n",
    "plt.ylabel('Mean Error')\n",
    "plt.show()\n",
    "fig.savefig('test_error9.png', dpi=fig.dpi)\n",
    "print(error)"
   ]
  },
  {
   "cell_type": "code",
   "execution_count": 11,
   "metadata": {},
   "outputs": [
    {
     "data": {
      "text/plain": [
       "array([[-0.27      , -0.13888889, -0.24444444, -0.25      , -0.31428571],\n",
       "       [-0.05      ,  0.05555556,  0.12222222,  0.20555556, -0.20952381],\n",
       "       [-0.225     , -0.14444444, -0.16111111, -0.32777778,  0.19047619],\n",
       "       ...,\n",
       "       [-0.205     , -0.14444444, -0.12777778, -0.08888889,  0.18095238],\n",
       "       [-0.05      ,  0.02777778, -0.1       , -0.11111111, -0.31428571],\n",
       "       [-0.19      , -0.12777778, -0.11666667, -0.06111111,  0.07619048]])"
      ]
     },
     "execution_count": 11,
     "metadata": {},
     "output_type": "execute_result"
    }
   ],
   "source": [
    "X_train"
   ]
  },
  {
   "cell_type": "code",
   "execution_count": 22,
   "metadata": {},
   "outputs": [
    {
     "name": "stdout",
     "output_type": "stream",
     "text": [
      "X_train is [[ 0.78284026  1.39707102  0.93053045 -1.0795669   0.05759879]\n",
      " [-0.28819153 -0.90490843 -0.8198106   0.87390719 -0.61473311]\n",
      " [-0.27737303 -0.74795528 -0.8198106   0.59776164 -0.59435942]\n",
      " ...\n",
      " [-0.5370171  -0.31633414 -0.47406422  0.98641093  1.15777826]\n",
      " [ 1.46440595  1.26627674  1.41673629 -1.08979451 -0.71660158]\n",
      " [ 1.03166583  1.09624416  1.14662194 -0.75228328 -0.26838032]]\n",
      "[[524   0   0   0   0   0   1   8   0  85]\n",
      " [  0 529  16   0   0   0   0   0   3   2]\n",
      " [  0   0 614   0   0   0   0   4   0   0]\n",
      " [  0   0   0 590   0   0   1   0   0   0]\n",
      " [  0   0   0   0 591  11   0   0   0   0]\n",
      " [  0   0   0   0   0 599   0   0   0   0]\n",
      " [  3   0   0   0   0   0 590   0   0   0]\n",
      " [  0   1   2   0   0   0   0 574   0  35]\n",
      " [  0   1   0   0   0   0   0   0 602   0]\n",
      " [ 35   1   0   0   0   0   0   0   0 578]]\n",
      "              precision    recall  f1-score   support\n",
      "\n",
      "           0       0.93      0.85      0.89       618\n",
      "           1       0.99      0.96      0.98       550\n",
      "           2       0.97      0.99      0.98       618\n",
      "           3       1.00      1.00      1.00       591\n",
      "           4       1.00      0.98      0.99       602\n",
      "           5       0.98      1.00      0.99       599\n",
      "           6       1.00      0.99      1.00       593\n",
      "           7       0.98      0.94      0.96       612\n",
      "           8       1.00      1.00      1.00       603\n",
      "           9       0.83      0.94      0.88       614\n",
      "\n",
      "    accuracy                           0.97      6000\n",
      "   macro avg       0.97      0.97      0.97      6000\n",
      "weighted avg       0.97      0.97      0.97      6000\n",
      "\n"
     ]
    },
    {
     "data": {
      "image/png": "[encoded data removed]",
      "text/plain": [
       "<Figure size 864x432 with 1 Axes>"
      ]
     },
     "metadata": {
      "needs_background": "light"
     },
     "output_type": "display_data"
    },
    {
     "name": "stdout",
     "output_type": "stream",
     "text": [
      "[0.006666666666666667, 0.01, 0.0115, 0.0125, 0.017, 0.018333333333333333, 0.019833333333333335, 0.02, 0.022166666666666668, 0.022, 0.023666666666666666, 0.023666666666666666, 0.026, 0.026166666666666668, 0.034833333333333334, 0.034666666666666665, 0.03916666666666667, 0.03866666666666667, 0.048666666666666664, 0.050333333333333334, 0.0545, 0.055, 0.0555, 0.057666666666666665, 0.058833333333333335, 0.0605, 0.06016666666666667, 0.06216666666666667, 0.06333333333333334, 0.06516666666666666, 0.0655, 0.06916666666666667, 0.06883333333333333, 0.07166666666666667, 0.072, 0.07333333333333333, 0.07366666666666667, 0.07533333333333334, 0.07616666666666666]\n"
     ]
    }
   ],
   "source": [
    "import numpy as np\n",
    "import matplotlib.pyplot as plt\n",
    "import pandas as pd\n",
    "from sklearn.model_selection import train_test_split\n",
    "from sklearn.neighbors import KNeighborsClassifier\n",
    "from sklearn.metrics import classification_report, confusion_matrix\n",
    "from sklearn import preprocessing\n",
    "    \n",
    "#data = np.empty([1,6])\n",
    "x_train = np.load('/Users/sjzzj/OneDrive - Imperial College London/AML_lab/fingerData/train_test/x_train.npy')\n",
    "x_test = np.load('/Users/sjzzj/OneDrive - Imperial College London/AML_lab/fingerData/train_test/x_test.npy')\n",
    "y_train = np.load('/Users/sjzzj/OneDrive - Imperial College London/AML_lab/fingerData/train_test/y_train.npy')\n",
    "y_test = np.load('/Users/sjzzj/OneDrive - Imperial College London/AML_lab/fingerData/train_test/y_test.npy')\n",
    "train = pd.read_csv('/Users/sjzzj/OneDrive - Imperial College London/AML_lab/fingerData/knndata.csv')\n",
    "\n",
    "\n",
    "X_train = train.iloc[:, :-1].values\n",
    "scaler = preprocessing.StandardScaler().fit(X_train)\n",
    "X_train = scaler.transform(X_train)\n",
    "X_test = x_test\n",
    "X_test = scaler.transform(X_test)\n",
    "\n",
    "\n",
    "y_train = train.iloc[:, 5].values\n",
    "\n",
    "print(\"X_train is {}\".format(X_train))\n",
    "#y_train = np.reshape(y_train, (-1, 1))\n",
    "#train = np.hstack((x_train, y_train))\n",
    "#np.around(train, decimals=1)\n",
    "\n",
    "#for i in range(10):\n",
    "#    mask = train[:, -1] == i\n",
    "#    train1 = train[mask, :]\n",
    "#    data = np.concatenate((data, train[np.random.choice(train.shape[0], 110, replace=False), :]))\n",
    "    \n",
    "#print(\"data is {}\".format(data))\n",
    "\n",
    "#X_train = data[:,[0,1,2,3,4]]\n",
    "#y_train = data[:,-1]\n",
    "\n",
    "#url = \"https://archive.ics.uci.edu/ml/machine-learning-databases/iris/iris.data\"   # Assign colum names to the dataset\n",
    "#names = ['sepal-length', 'sepal-width', 'petal-length', 'petal-width', 'Class']    # Read dataset to pandas dataframe\n",
    "#dataset = pd.read_csv(url, names=names)\n",
    "\n",
    "#X_train, X_test, y_train, y_test = train_test_split(X, y, test_size=0.20)    #20% for test\n",
    "\n",
    "\n",
    "\n",
    "classifier = KNeighborsClassifier(n_neighbors=15)   #hyperparameter of KNN --- k\n",
    "classifier.fit(X_train, y_train)       #training\n",
    "y_pred = classifier.predict(X_test)   #prediction\n",
    "\n",
    "\n",
    "#evaluation of the algorithm\n",
    "print(confusion_matrix(y_test, y_pred))\n",
    "print(classification_report(y_test, y_pred))\n",
    "\n",
    "\n",
    "error = []\n",
    "# Calculating error for K values between 1 and 40\n",
    "for i in range(1, 40):\n",
    "    knn = KNeighborsClassifier(n_neighbors=i)\n",
    "    knn.fit(X_train, y_train)\n",
    "    pred_i = knn.predict(X_test)\n",
    "    error.append(np.mean(pred_i != y_test))\n",
    "\n",
    "fig = plt.figure(figsize=(12, 6))\n",
    "plt.plot(range(1, 40), error, color='red', linestyle='dashed', marker='o',\n",
    "         markerfacecolor='blue', markersize=10)\n",
    "plt.title('Error Rate K Value')\n",
    "plt.xlabel('K Value')\n",
    "plt.ylabel('Mean Error')\n",
    "plt.show()\n",
    "fig.savefig('test_error9.png', dpi=fig.dpi)\n",
    "print(error)"
   ]
  },
  {
   "cell_type": "code",
   "execution_count": null,
   "metadata": {},
   "outputs": [],
   "source": []
  }
 ],
 "metadata": {
  "colab": {
   "name": "knn_verification.ipynb",
   "provenance": []
  },
  "kernelspec": {
   "display_name": "Python 3",
   "language": "python",
   "name": "python3"
  },
  "language_info": {
   "codemirror_mode": {
    "name": "ipython",
    "version": 3
   },
   "file_extension": ".py",
   "mimetype": "text/x-python",
   "name": "python",
   "nbconvert_exporter": "python",
   "pygments_lexer": "ipython3",
   "version": "3.8.5"
  }
 },
 "nbformat": 4,
 "nbformat_minor": 1
}
